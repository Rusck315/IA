{
 "cells": [
  {
   "cell_type": "code",
   "execution_count": 3,
   "id": "5317f062",
   "metadata": {},
   "outputs": [
    {
     "name": "stdout",
     "output_type": "stream",
     "text": [
      "486 496\n",
      "Valores (486, 496)\n"
     ]
    }
   ],
   "source": [
    "import cv2 as cv\n",
    "import numpy as np\n",
    "img = cv.imread('/Users/salme/Downloads/wally/imag recort/negativa10.jpg',1)\n",
    "h,w = img.shape[:2]\n",
    "print(h, w)\n",
    "img2 = np.zeros((h*2, w*2) , dtype = \"uint8\")\n",
    "print(\"Valores \" + str(img.shape[:2]))     \n",
    "\n",
    "\n",
    "img = cv.resize(img, (50,50), interpolation = cv.INTER_AREA)\n",
    "cv.imwrite('/Users/salme/Downloads/wally/imag recort/Nreescaladas/negativaR10.jpg', img)\n",
    "\n",
    "cv.imshow('imagen', img)\n",
    "cv.imshow('imagen2', img2)\n",
    "cv.waitKey(0)\n",
    "cv.destroyAllWindows()"
   ]
  },
  {
   "cell_type": "code",
   "execution_count": null,
   "id": "1eb72122",
   "metadata": {},
   "outputs": [],
   "source": [
    "import cv2 as cv\n",
    "import numpy as np \n",
    "i=406\n",
    "j=0\n",
    "img = cv.imread('/Users/salme/Downloads/wally/imag recort/Nreescaladas/negativaR10.jpg')\n",
    "h,w = img.shape[:2]\n",
    "\n",
    "while True:\n",
    "\n",
    "    mw = cv.getRotationMatrix2D((h//2, w//2),j,-1)\n",
    "    img2 = cv.warpAffine(img,mw,(h,w))\n",
    "    cv.imwrite('/Users/salme/Downloads/wally/imag recort/n/wallyn'+str(i)+'p.jpg', img2)\n",
    "    i=i+1\n",
    "    j=j+8\n",
    "    \n",
    "    if j==360:\n",
    "        break\n",
    "cv.imshow('imagen1', img)\n",
    "cv.imshow('imagen2', img2)\n",
    "\n",
    "cv.waitKey(0)\n",
    "cv.destroyAllWindows()"
   ]
  },
  {
   "cell_type": "code",
   "execution_count": null,
   "id": "63e0466f",
   "metadata": {},
   "outputs": [],
   "source": [
    "##este no\n",
    "import numpy as np\n",
    "import cv2 as cv\n",
    "import math\n",
    "\n",
    "cap = cv.VideoCapture(\"/Users/salme/Videos/videosIA/1000 imagenes.mp4\")\n",
    "i=1000\n",
    "while True:\n",
    "    ret, frame =cap.read()\n",
    "    cv.imshow('img', frame)\n",
    "    k = cv.waitKey(1)\n",
    "    i=i+1\n",
    "    frame = cv.resize(frame, (50,50), interpolation = cv.INTER_AREA)\n",
    "    cv.imwrite('/Users/salme/Downloads/wally/negativas 1 video/Wally'+str(i)+'n.jpg', frame)\n",
    "\n",
    "    if k == 27:\n",
    "        break\n",
    "cap.release()\n",
    "cv.destroyAllWindows()"
   ]
  },
  {
   "cell_type": "code",
   "execution_count": null,
   "id": "a6c3bb2f",
   "metadata": {},
   "outputs": [],
   "source": [
    "import cv2\n",
    "\n",
    "camera = cv2.VideoCapture(0)\n",
    "\n",
    "haar = cv2.CascadeClassifier('cascade.xml')\n",
    "font = cv2.FONT_HERSHEY_SIMPLEX\n",
    "\n",
    "while True:\n",
    "\n",
    "    ret, frame = camera.read()\n",
    "    \n",
    "    gray = cv2.cvtColor(frame, cv2.COLOR_BGR2GRAY)\n",
    "    \n",
    "    faces = haar.detectMultiScale(gray, 1.3, 5)\n",
    "\n",
    "    for (x, y, w, h) in faces:\n",
    "        pt1=(x,y)\n",
    "        pt2=(x+w,y+h)\n",
    "        \n",
    "        cv2.rectangle(frame, pt1 ,pt2 ,(255, 0, 0), 3)\n",
    "        cv2.rectangle(frame, pt1 ,(x+100,y+40) , (255, 0, 0),-1)\n",
    "        cv2.putText(frame,'wally',(x+10,y+30),font,0.9,(255,255,255),2)\n",
    "                  \n",
    "    cv2.imshow('Video', frame)\n",
    "    if cv2.waitKey(1) & 0xFF == ord('q'):\n",
    "        break\n",
    "    \n",
    "camera.release()\n",
    "cv2.destroyAllWindows()\n"
   ]
  },
  {
   "cell_type": "code",
   "execution_count": 11,
   "id": "cd4d05a7",
   "metadata": {},
   "outputs": [
    {
     "ename": "error",
     "evalue": "OpenCV(4.9.0) D:\\a\\opencv-python\\opencv-python\\opencv\\modules\\imgproc\\src\\color.cpp:196: error: (-215:Assertion failed) !_src.empty() in function 'cv::cvtColor'\n",
     "output_type": "error",
     "traceback": [
      "\u001b[1;31m---------------------------------------------------------------------------\u001b[0m",
      "\u001b[1;31merror\u001b[0m                                     Traceback (most recent call last)",
      "Cell \u001b[1;32mIn[11], line 8\u001b[0m\n\u001b[0;32m      5\u001b[0m wally \u001b[38;5;241m=\u001b[39m cv\u001b[38;5;241m.\u001b[39mCascadeClassifier(\u001b[38;5;124m'\u001b[39m\u001b[38;5;124mcascade1.xml\u001b[39m\u001b[38;5;124m'\u001b[39m)\n\u001b[0;32m      6\u001b[0m frame \u001b[38;5;241m=\u001b[39m cv\u001b[38;5;241m.\u001b[39mimread (\u001b[38;5;124m'\u001b[39m\u001b[38;5;124m/Users/salme/Downloads/playa2.jpg\u001b[39m\u001b[38;5;124m'\u001b[39m)\n\u001b[1;32m----> 8\u001b[0m gray \u001b[38;5;241m=\u001b[39m cv\u001b[38;5;241m.\u001b[39mcvtColor(frame, cv\u001b[38;5;241m.\u001b[39mCOLOR_BGR2GRAY)\n\u001b[0;32m      9\u001b[0m wallys \u001b[38;5;241m=\u001b[39m wally\u001b[38;5;241m.\u001b[39mdetectMultiScale(gray, \u001b[38;5;241m1.3\u001b[39m, \u001b[38;5;241m3\u001b[39m)\n\u001b[0;32m     10\u001b[0m \u001b[38;5;28;01mfor\u001b[39;00m(x, y, w, h) \u001b[38;5;129;01min\u001b[39;00m wallys:\n",
      "\u001b[1;31merror\u001b[0m: OpenCV(4.9.0) D:\\a\\opencv-python\\opencv-python\\opencv\\modules\\imgproc\\src\\color.cpp:196: error: (-215:Assertion failed) !_src.empty() in function 'cv::cvtColor'\n"
     ]
    }
   ],
   "source": [
    "import cv2 as cv\n",
    "import os \n",
    "import math\n",
    "\n",
    "wally = cv.CascadeClassifier('cascade1.xml')\n",
    "frame = cv.imread ('/Users/salme/Downloads/playa2.jpg')\n",
    "\n",
    "gray = cv.cvtColor(frame, cv.COLOR_BGR2GRAY)\n",
    "wallys = wally.detectMultiScale(gray, 1.3, 3)\n",
    "for(x, y, w, h) in wallys:\n",
    "    frame = cv.rectangle(frame, (x,y), (x+w, y+h), (0, 255 ,0), 2)\n",
    "    cv.imshow('frame', frame)\n",
    "\n",
    "cv.waitKey(0)\n",
    "cv.destroyAllWindows()"
   ]
  },
  {
   "cell_type": "code",
   "execution_count": 57,
   "id": "13952be7",
   "metadata": {},
   "outputs": [],
   "source": [
    "import numpy as np\n",
    "import cv2 as cv\n",
    "\n",
    "# Cargar los clasificadores\n",
    "#face_cascade = cv.CascadeClassifier('haarcascade_frontalface_alt2.xml')\n",
    "wally_cascade = cv.CascadeClassifier('cascade1.xml')\n",
    "\n",
    "# Leer la imagen\n",
    "frame = cv.imread(\"/Users/salme/Downloads/imgs/bwally2.jpg\")\n",
    "\n",
    "# Convertir la imagen a escala de grises\n",
    "gray = cv.cvtColor(frame, cv.COLOR_BGR2GRAY)\n",
    "\n",
    "# Detectar a Wally usando el clasificador en cascada\n",
    "wallys = wally_cascade.detectMultiScale(gray, 1.3, 5)\n",
    "\n",
    "\n",
    "\n",
    "# Dibujar rectángulos alrededor de las detecciones\n",
    "for (x, y, w, h) in wallys:\n",
    "    frame = cv.rectangle(frame, (x, y), (x + w, y + h), (0, 255, 0), 2)\n",
    "\n",
    "# Mostrar la imagen con las detecciones\n",
    "cv.imshow('Deteccion', frame)\n",
    "cv.waitKey(0)\n",
    "cv.destroyAllWindows()"
   ]
  },
  {
   "cell_type": "code",
   "execution_count": null,
   "id": "1885e479",
   "metadata": {},
   "outputs": [],
   "source": [
    "import cv2 as cv\n",
    "import numpy as np\n",
    "img = cv.imread('/Users/salme/Downloads/wally/rescalado/positivo/1p.png',1)\n",
    "h,w = img.shape[:2]\n",
    "print(h, w)\n",
    "img2 = np.zeros((h*2, w*2) , dtype = \"uint8\")\n",
    "print(\"Valores \" + str(img.shape[:2]))     \n",
    "\n",
    "\n",
    "\n",
    "img = cv.resize(img, (50,50), interpolation = cv.INTER_AREA)\n",
    "cv.imwrite('/Users/salme/Downloads/wally/rescalado/positivo/p/476.png', img)\n",
    "\n",
    "cv.imshow('imagen', img)\n",
    "cv.imshow('imagen2', img2)\n",
    "cv.waitKey(0)\n",
    "cv.destroyAllWindows()"
   ]
  },
  {
   "cell_type": "code",
   "execution_count": null,
   "id": "517f7810",
   "metadata": {},
   "outputs": [],
   "source": []
  },
  {
   "cell_type": "code",
   "execution_count": null,
   "id": "b9b2e0b2",
   "metadata": {},
   "outputs": [],
   "source": []
  }
 ],
 "metadata": {
  "kernelspec": {
   "display_name": "Python 3 (ipykernel)",
   "language": "python",
   "name": "python3"
  },
  "language_info": {
   "codemirror_mode": {
    "name": "ipython",
    "version": 3
   },
   "file_extension": ".py",
   "mimetype": "text/x-python",
   "name": "python",
   "nbconvert_exporter": "python",
   "pygments_lexer": "ipython3",
   "version": "3.11.5"
  }
 },
 "nbformat": 4,
 "nbformat_minor": 5
}
