{
 "cells": [
  {
   "cell_type": "code",
   "execution_count": null,
   "id": "5317f062",
   "metadata": {},
   "outputs": [
    {
     "name": "stdout",
     "output_type": "stream",
     "text": [
      "400 182\n",
      "Valores (400, 182)\n"
     ]
    }
   ],
   "source": [
    "import cv2 as cv\n",
    "import numpy as np\n",
    "img = cv.imread('/Users/salme/Downloads/wally/Wallyp153.jpg',1)\n",
    "h,w = img.shape[:2]\n",
    "print(h, w)\n",
    "img2 = np.zeros((h*2, w*2) , dtype = \"uint8\")\n",
    "print(\"Valores \" + str(img.shape[:2]))     \n",
    "\n",
    "\n",
    "img = cv.resize(img, (50,50), interpolation = cv.INTER_AREA)\n",
    "cv.imwrite('/Users/salme/Downloads/wally/Wallyreescalado153.jpg', img)\n",
    "\n",
    "cv.imshow('imagen', img)\n",
    "cv.imshow('imagen2', img2)\n",
    "cv.waitKey(0)\n",
    "cv.destroyAllWindows()"
   ]
  },
  {
   "cell_type": "code",
   "execution_count": 1,
   "id": "1eb72122",
   "metadata": {},
   "outputs": [],
   "source": [
    "import cv2 as cv\n",
    "import numpy as np \n",
    "i=1081\n",
    "j=0\n",
    "img = cv.imread('/Users/salme/Downloads/wally/Wallyreescalado153.jpg')\n",
    "h,w = img.shape[:2]\n",
    "\n",
    "while True:\n",
    "\n",
    "    mw = cv.getRotationMatrix2D((h//2, w//2),j,-1)\n",
    "    img2 = cv.warpAffine(img,mw,(h,w))\n",
    "    cv.imwrite('/Users/salme/Downloads/wally/imagenesrotacion/Wally'+str(i)+'p.jpg', img2)\n",
    "    i=i+1\n",
    "    j=j+1\n",
    "    \n",
    "    if j==360:\n",
    "        break\n",
    "cv.imshow('imagen1', img)\n",
    "cv.imshow('imagen2', img2)\n",
    "\n",
    "cv.waitKey(0)\n",
    "cv.destroyAllWindows()"
   ]
  },
  {
   "cell_type": "code",
   "execution_count": null,
   "id": "63e0466f",
   "metadata": {},
   "outputs": [],
   "source": []
  },
  {
   "cell_type": "code",
   "execution_count": null,
   "id": "a6c3bb2f",
   "metadata": {},
   "outputs": [],
   "source": []
  },
  {
   "cell_type": "code",
   "execution_count": null,
   "id": "cd4d05a7",
   "metadata": {},
   "outputs": [],
   "source": []
  }
 ],
 "metadata": {
  "kernelspec": {
   "display_name": "Python 3 (ipykernel)",
   "language": "python",
   "name": "python3"
  },
  "language_info": {
   "codemirror_mode": {
    "name": "ipython",
    "version": 3
   },
   "file_extension": ".py",
   "mimetype": "text/x-python",
   "name": "python",
   "nbconvert_exporter": "python",
   "pygments_lexer": "ipython3",
   "version": "3.11.5"
  }
 },
 "nbformat": 4,
 "nbformat_minor": 5
}
